{
  "nbformat": 4,
  "nbformat_minor": 0,
  "metadata": {
    "colab": {
      "provenance": [],
      "include_colab_link": true
    },
    "kernelspec": {
      "name": "python3",
      "display_name": "Python 3"
    },
    "language_info": {
      "name": "python"
    }
  },
  "cells": [
    {
      "cell_type": "markdown",
      "metadata": {
        "id": "view-in-github",
        "colab_type": "text"
      },
      "source": [
        "<a href=\"https://colab.research.google.com/github/DametraOwO/Algoritma-Random-Number-Generator-RNG-Pada-Sistem-Gacha-di-Game-Genshin-Impact/blob/main/Algoritma_RNG.ipynb\" target=\"_parent\"><img src=\"https://colab.research.google.com/assets/colab-badge.svg\" alt=\"Open In Colab\"/></a>"
      ]
    },
    {
      "cell_type": "markdown",
      "source": [
        "1.Parameter"
      ],
      "metadata": {
        "id": "VXYx1aae267_"
      }
    },
    {
      "cell_type": "code",
      "execution_count": null,
      "metadata": {
        "id": "hqUVcu-rxBIH"
      },
      "outputs": [],
      "source": [
        "a = 5  # Konstanta pengali\n",
        "m = 8  # Modulus\n",
        "Z0 = 42  # Seed (bilangan awal)\n",
        "n = 20  # Jumlah bilangan acak yang akan dihasilkan\n"
      ]
    },
    {
      "cell_type": "markdown",
      "source": [
        "Parameter ini menentukan perilaku generator bilangan acak:\n",
        "\n",
        "𝑎: Konstanta pengali menentukan skala\n",
        "perhitungan.\n",
        "\n",
        "𝑚: Modulus memastikan hasil tetap dalam batas tertentu (0 hingga 𝑚 − 1).\n",
        "\n",
        "Z0: Nilai awal yang digunakan untuk memulai penghitungan.\n",
        "\n",
        "𝑛: Jumlah iterasi yang diinginkan."
      ],
      "metadata": {
        "id": "WlYCiQ2mxDdY"
      }
    },
    {
      "cell_type": "markdown",
      "source": [
        "2.Inisialisasi Daftar"
      ],
      "metadata": {
        "id": "IOkchtoz3GlZ"
      }
    },
    {
      "cell_type": "code",
      "source": [
        "# Inisialisasi daftar untuk menyimpan hasil\n",
        "results = []"
      ],
      "metadata": {
        "id": "tshW9FY128TZ"
      },
      "execution_count": null,
      "outputs": []
    },
    {
      "cell_type": "markdown",
      "source": [
        "\n",
        "\n",
        "*   Baris ini mendeklarasikan sebuah list kosong bernama results.\n",
        "*   List ini nantinya akan digunakan untuk menyimpan semua data hasil perhitungan dari algoritma random number generator (RNG) di setiap iterasi.\n",
        "\n"
      ],
      "metadata": {
        "id": "sJCr6YVb3Nm8"
      }
    },
    {
      "cell_type": "markdown",
      "source": [
        "3.Algoritma RNG"
      ],
      "metadata": {
        "id": "ROpP9T8-3Rus"
      }
    },
    {
      "cell_type": "code",
      "source": [
        "Z = Z0  # Bilangan awal\n",
        "for i in range(1, n + 1):\n",
        "    Z_prev = Z  # Menyimpan bilangan sebelumnya\n",
        "    Z = (a * Z) % m  # Menghitung bilangan acak selanjutnya\n",
        "    U = Z / m  # Menghitung bilangan acak seragam\n",
        "    rumus = f\"(5 * {Z_prev}) mod {m}\"  # Rumus yang digunakan\n",
        "    results.append([i, Z_prev, rumus, Z, round(U, 3)])  # Menyimpan hasil\n"
      ],
      "metadata": {
        "id": "B_g1n_NG3Q7V"
      },
      "execution_count": null,
      "outputs": []
    },
    {
      "cell_type": "markdown",
      "source": [
        "\n",
        "\n",
        "*   Inisialisasi Bilangan Awal: Nilai awal\n",
        "𝑍 diambil dari Z0 (seed).\n",
        "*   Iterasi: Perulangan dilakukan 𝑛 kali untuk menghasilkan bilangan acak.\n",
        "\n",
        "*   Simpan Bilangan Sebelumnya: Variabel Z_prev menyimpan nilai 𝑍 sebelum diperbarui.\n",
        "*   Hitung Bilangan Acak (𝑍𝑖): Menggunakan rumus: 𝑍𝑖 = (𝑎⋅𝑍𝑖−1) mod 𝑚\n",
        "\n",
        "\n",
        "*   Hitung Bilangan Seragam (𝑈𝑖): Dengan membagi 𝑍𝑖 dengan 𝑚:𝑈𝑖 = 𝑍𝑖/𝑚\n",
        "*   Simpan Hasil ke Daftar results:\n",
        "Data per iterasi disimpan dalam list berisi:\n",
        "  1.   Indeks iterasi.\n",
        "  2.   Bilangan sebelumnya.\n",
        "  3.   Rumus perhitungan.\n",
        "  4.   Bilangan acak (𝑍𝑖).\n",
        "  5. Bilangan seragam (𝑈𝑖).\n",
        "\n",
        "\n",
        "\n",
        "\n",
        "\n",
        "\n"
      ],
      "metadata": {
        "id": "sOh-rwFI3iLB"
      }
    },
    {
      "cell_type": "markdown",
      "source": [
        "4.Output Hasil"
      ],
      "metadata": {
        "id": "b7-xYcmh3pYZ"
      }
    },
    {
      "cell_type": "code",
      "source": [
        "# Menampilkan tabel\n",
        "print(f\"{'i':<3} | {'Zi-1 (Bilangan Sebelumnya)':<28} | {'Rumus Zi = (5.Zi-1) mod 8':<32} | {'Zi (Bilangan Acak)':<20} | {'Ui = Zi/8 (Bilangan Acak Seragam)':<30}\")\n",
        "print(\"-\" * 120)\n",
        "for row in results:\n",
        "    print(f\"{row[0]:<3} | {row[1]:<28} | {row[2]:<32} | {row[3]:<20} | {row[4]:<30}\")"
      ],
      "metadata": {
        "colab": {
          "base_uri": "https://localhost:8080/"
        },
        "id": "P5CseKrP3rdt",
        "outputId": "a9c6106a-95d8-445f-c0d8-a4c5dc3ac7e5"
      },
      "execution_count": null,
      "outputs": [
        {
          "output_type": "stream",
          "name": "stdout",
          "text": [
            "i   | Zi-1 (Bilangan Sebelumnya)   | Rumus Zi = (5.Zi-1) mod 8        | Zi (Bilangan Acak)   | Ui = Zi/8 (Bilangan Acak Seragam)\n",
            "------------------------------------------------------------------------------------------------------------------------\n",
            "1   | 42                           | (5 * 42) mod 8                   | 2                    | 0.25                          \n",
            "2   | 2                            | (5 * 2) mod 8                    | 2                    | 0.25                          \n",
            "3   | 2                            | (5 * 2) mod 8                    | 2                    | 0.25                          \n",
            "4   | 2                            | (5 * 2) mod 8                    | 2                    | 0.25                          \n",
            "5   | 2                            | (5 * 2) mod 8                    | 2                    | 0.25                          \n",
            "6   | 2                            | (5 * 2) mod 8                    | 2                    | 0.25                          \n",
            "7   | 2                            | (5 * 2) mod 8                    | 2                    | 0.25                          \n",
            "8   | 2                            | (5 * 2) mod 8                    | 2                    | 0.25                          \n",
            "9   | 2                            | (5 * 2) mod 8                    | 2                    | 0.25                          \n",
            "10  | 2                            | (5 * 2) mod 8                    | 2                    | 0.25                          \n",
            "11  | 2                            | (5 * 2) mod 8                    | 2                    | 0.25                          \n",
            "12  | 2                            | (5 * 2) mod 8                    | 2                    | 0.25                          \n",
            "13  | 2                            | (5 * 2) mod 8                    | 2                    | 0.25                          \n",
            "14  | 2                            | (5 * 2) mod 8                    | 2                    | 0.25                          \n",
            "15  | 2                            | (5 * 2) mod 8                    | 2                    | 0.25                          \n",
            "16  | 2                            | (5 * 2) mod 8                    | 2                    | 0.25                          \n",
            "17  | 2                            | (5 * 2) mod 8                    | 2                    | 0.25                          \n",
            "18  | 2                            | (5 * 2) mod 8                    | 2                    | 0.25                          \n",
            "19  | 2                            | (5 * 2) mod 8                    | 2                    | 0.25                          \n",
            "20  | 2                            | (5 * 2) mod 8                    | 2                    | 0.25                          \n"
          ]
        }
      ]
    },
    {
      "cell_type": "markdown",
      "source": [
        "1. Header Tabel\n",
        "- Fungsi: Membuat header tabel dengan nama kolom yang sesuai.\n",
        "- Format:\n",
        "\n",
        "    - {:<3}: Mengatur kolom pertama (indeks i) dengan lebar 3 karakter, rata kiri.\n",
        "    \n",
        "    - {:<28}, {:<32}, dll.: Mengatur lebar kolom berikutnya agar kolom rata dan rapi.\n",
        "- Kolom yang Ditampilkan:\n",
        "  - i: Indeks iterasi.\n",
        "  - Zi-1 (Bilangan Sebelumnya): Menampilkan bilangan sebelumnya.\n",
        "  - Rumus Zi: Formula perhitungan.\n",
        "  - Zi (Bilangan Acak): Hasil bilangan acak (𝑍𝑖).\n",
        "  - Ui (Bilangan Seragam): Hasil bilangan seragam (𝑈𝑖)."
      ],
      "metadata": {
        "id": "MXJ7IKLh-8Ow"
      }
    },
    {
      "cell_type": "markdown",
      "source": [
        "2. Pembatas Tabel\n",
        "\n",
        "  print(\"-\" * 120)\n",
        "  - Fungsi: Menambahkan garis pembatas di bawah header untuk memisahkan nama kolom dengan data.\n",
        "  - 120 Karakter: Jumlah karakter disesuaikan dengan total lebar tabel agar proporsional."
      ],
      "metadata": {
        "id": "zpa-ZzOa_zv6"
      }
    },
    {
      "cell_type": "markdown",
      "source": [
        "3. Menampilkan Data\n",
        "- for row in results: Iterasi melalui setiap baris data di daftar results.\n",
        "- Format Data:\n",
        "  - row[0]: Indeks iterasi 𝑖.\n",
        "  - row[1]: Bilangan sebelumnya 𝑍𝑖−1.\n",
        "  - row[2]: Rumus perhitungan (5⋅𝑍𝑖−1) mod 8.\n",
        "  - row[3]: Bilangan acak hasil (𝑍𝑖).\n",
        "  - row[4]: Bilangan seragam (𝑈𝑖).\n",
        "- Pengaturan Kolom:\n",
        "  - Lebar kolom diatur agar semua data rata kiri dan sejajar dengan header.-"
      ],
      "metadata": {
        "id": "uz13iQegAB-O"
      }
    }
  ]
}